{
 "cells": [
  {
   "cell_type": "code",
   "execution_count": 24,
   "metadata": {
    "collapsed": true
   },
   "outputs": [],
   "source": [
    "import pickle\n",
    "\n",
    "import matplotlib.pyplot as plt\n",
    "import seaborn as sns\n",
    "%matplotlib inline\n",
    "\n",
    "from sklearn import linear_model\n",
    "from sklearn.metrics import r2_score, mean_squared_error"
   ]
  },
  {
   "cell_type": "code",
   "execution_count": 33,
   "metadata": {
    "collapsed": true
   },
   "outputs": [],
   "source": [
    "# Train and test datasets\n",
    "X_train = [[1,2],[3,4],[5,6]]\n",
    "y_train = [1,3,5]\n",
    "X_test = [[7,8],[9,10]]\n",
    "y_test = [7,9]"
   ]
  },
  {
   "cell_type": "code",
   "execution_count": 3,
   "metadata": {
    "collapsed": true
   },
   "outputs": [],
   "source": [
    "list_of_models = [(\"Linear Regression\", linear_model.LinearRegression())]"
   ]
  },
  {
   "cell_type": "code",
   "execution_count": 17,
   "metadata": {
    "collapsed": false
   },
   "outputs": [],
   "source": [
    "metrics_fns = [(\"r2\", r2_score), (\"mse\", mean_squared_error)]"
   ]
  },
  {
   "cell_type": "code",
   "execution_count": 21,
   "metadata": {
    "collapsed": false
   },
   "outputs": [],
   "source": [
    "def print_metrics(preds, y):\n",
    "    metrics_list = []\n",
    "    for label, fn in metrics_fns:\n",
    "        metric = fn(preds, y_test)\n",
    "        print(label, \": \", metric)\n",
    "        metrics_list.append(metric)\n",
    "    return metrics_list"
   ]
  },
  {
   "cell_type": "code",
   "execution_count": 37,
   "metadata": {
    "collapsed": false
   },
   "outputs": [],
   "source": [
    "def loop_through_models(list_of_models, X_train, y_train, X_test, y_test, id=\"\"):\n",
    "    for label, model in list_of_models:\n",
    "        # Initialise vars\n",
    "        records = [label]\n",
    "        \n",
    "        # Fit model\n",
    "        model.fit(X_train, y_train)\n",
    "        \n",
    "        # Predict on test set\n",
    "        preds = model.predict(X_test)\n",
    "        \n",
    "        # Print accuracy metrics\n",
    "        metrics = print_metrics(preds, y_test)\n",
    "        records.extend(metrics)\n",
    "        \n",
    "        # Print predictions\n",
    "        print(preds[:10], y_test[:10])\n",
    "        records.extend([preds[:10], y_test[:10]])\n",
    "        \n",
    "        # TODO: save plot of distribution of predictions\n",
    "        distplot = sns.distplot(preds)\n",
    "        plt.savefig(id + label)\n",
    "        \n",
    "        # TODO: \n",
    "        return records\n",
    "    "
   ]
  },
  {
   "cell_type": "code",
   "execution_count": 38,
   "metadata": {
    "collapsed": false
   },
   "outputs": [
    {
     "name": "stdout",
     "output_type": "stream",
     "text": [
      "r2 :  1.0\n",
      "mse :  6.70531769438e-30\n",
      "[ 7.  9.] [7, 9]\n"
     ]
    },
    {
     "name": "stderr",
     "output_type": "stream",
     "text": [
      "/Users/jessica/anaconda/lib/python3.6/site-packages/statsmodels/nonparametric/kdetools.py:20: VisibleDeprecationWarning: using a non-integer number instead of an integer will result in an error in the future\n",
      "  y = X[:m/2+1] + np.r_[0,X[m/2+1:],0]*1j\n"
     ]
    },
    {
     "data": {
      "text/plain": [
       "['Linear Regression', 1.0, 6.7053176943786003e-30, array([ 7.,  9.]), [7, 9]]"
      ]
     },
     "execution_count": 38,
     "metadata": {},
     "output_type": "execute_result"
    },
    {
     "data": {
      "image/png": "[encoded data removed]",
      "text/plain": [
       "<matplotlib.figure.Figure at 0x11d15f6d8>"
      ]
     },
     "metadata": {},
     "output_type": "display_data"
    }
   ],
   "source": [
    "loop_through_models(list_of_models, X_train, y_train, X_test, y_test, id=\"test\")"
   ]
  }
 ],
 "metadata": {
  "kernelspec": {
   "display_name": "Python 3",
   "language": "python",
   "name": "python3"
  },
  "language_info": {
   "codemirror_mode": {
    "name": "ipython",
    "version": 3
   },
   "file_extension": ".py",
   "mimetype": "text/x-python",
   "name": "python",
   "nbconvert_exporter": "python",
   "pygments_lexer": "ipython3",
   "version": "3.6.0"
  }
 },
 "nbformat": 4,
 "nbformat_minor": 2
}
